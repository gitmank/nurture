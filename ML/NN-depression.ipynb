{
 "cells": [
  {
   "cell_type": "code",
   "execution_count": 1,
   "id": "54fec891",
   "metadata": {},
   "outputs": [
    {
     "name": "stdout",
     "output_type": "stream",
     "text": [
      "WARNING:tensorflow:From C:\\Users\\Dell\\anaconda3\\Lib\\site-packages\\keras\\src\\losses.py:2976: The name tf.losses.sparse_softmax_cross_entropy is deprecated. Please use tf.compat.v1.losses.sparse_softmax_cross_entropy instead.\n",
      "\n"
     ]
    }
   ],
   "source": [
    "import tensorflow as tf"
   ]
  },
  {
   "cell_type": "code",
   "execution_count": 2,
   "id": "066a34eb",
   "metadata": {},
   "outputs": [],
   "source": [
    "import pandas as pd\n",
    "from sklearn.model_selection import train_test_split\n",
    "from sklearn.preprocessing import OneHotEncoder, LabelEncoder\n",
    "from sklearn.metrics import classification_report, confusion_matrix\n",
    "import tensorflow as tf\n",
    "import numpy as np\n",
    "import joblib\n",
    "import matplotlib.pyplot as plt"
   ]
  },
  {
   "cell_type": "code",
   "execution_count": 3,
   "id": "70ce33c9",
   "metadata": {},
   "outputs": [],
   "source": [
    "# Load data\n",
    "data = pd.read_csv(r\"C:\\Users\\Dell\\Downloads\\depression_analysis.csv\")"
   ]
  },
  {
   "cell_type": "code",
   "execution_count": 4,
   "id": "4aa9db37",
   "metadata": {},
   "outputs": [
    {
     "data": {
      "text/html": [
       "<div>\n",
       "<style scoped>\n",
       "    .dataframe tbody tr th:only-of-type {\n",
       "        vertical-align: middle;\n",
       "    }\n",
       "\n",
       "    .dataframe tbody tr th {\n",
       "        vertical-align: top;\n",
       "    }\n",
       "\n",
       "    .dataframe thead th {\n",
       "        text-align: right;\n",
       "    }\n",
       "</style>\n",
       "<table border=\"1\" class=\"dataframe\">\n",
       "  <thead>\n",
       "    <tr style=\"text-align: right;\">\n",
       "      <th></th>\n",
       "      <th>Do you feel bored or uninterested in activities?</th>\n",
       "      <th>Do you feel sad or hurt?</th>\n",
       "      <th>Do you stay up late at night?</th>\n",
       "      <th>Do you feel tired all the time?</th>\n",
       "      <th>Do you feel like there is nobody to help you?</th>\n",
       "      <th>Do you feel your parents are upset with you?</th>\n",
       "      <th>Do you leave food because you are not hungry?</th>\n",
       "      <th>Do you feel distracted while studying?</th>\n",
       "      <th>Do you feel like disappearing from the world?</th>\n",
       "      <th>Depression Risk</th>\n",
       "    </tr>\n",
       "  </thead>\n",
       "  <tbody>\n",
       "    <tr>\n",
       "      <th>0</th>\n",
       "      <td>0</td>\n",
       "      <td>0</td>\n",
       "      <td>2</td>\n",
       "      <td>2</td>\n",
       "      <td>3</td>\n",
       "      <td>2</td>\n",
       "      <td>3</td>\n",
       "      <td>1</td>\n",
       "      <td>0</td>\n",
       "      <td>Moderate Depression Risk</td>\n",
       "    </tr>\n",
       "    <tr>\n",
       "      <th>1</th>\n",
       "      <td>1</td>\n",
       "      <td>2</td>\n",
       "      <td>3</td>\n",
       "      <td>2</td>\n",
       "      <td>3</td>\n",
       "      <td>3</td>\n",
       "      <td>3</td>\n",
       "      <td>3</td>\n",
       "      <td>2</td>\n",
       "      <td>Severe Depression Risk</td>\n",
       "    </tr>\n",
       "    <tr>\n",
       "      <th>2</th>\n",
       "      <td>3</td>\n",
       "      <td>0</td>\n",
       "      <td>3</td>\n",
       "      <td>1</td>\n",
       "      <td>3</td>\n",
       "      <td>1</td>\n",
       "      <td>2</td>\n",
       "      <td>2</td>\n",
       "      <td>1</td>\n",
       "      <td>Moderate to Severe Depression Risk</td>\n",
       "    </tr>\n",
       "    <tr>\n",
       "      <th>3</th>\n",
       "      <td>3</td>\n",
       "      <td>3</td>\n",
       "      <td>1</td>\n",
       "      <td>0</td>\n",
       "      <td>3</td>\n",
       "      <td>3</td>\n",
       "      <td>0</td>\n",
       "      <td>0</td>\n",
       "      <td>1</td>\n",
       "      <td>Moderate Depression Risk</td>\n",
       "    </tr>\n",
       "    <tr>\n",
       "      <th>4</th>\n",
       "      <td>2</td>\n",
       "      <td>3</td>\n",
       "      <td>0</td>\n",
       "      <td>3</td>\n",
       "      <td>2</td>\n",
       "      <td>1</td>\n",
       "      <td>3</td>\n",
       "      <td>1</td>\n",
       "      <td>2</td>\n",
       "      <td>Moderate to Severe Depression Risk</td>\n",
       "    </tr>\n",
       "  </tbody>\n",
       "</table>\n",
       "</div>"
      ],
      "text/plain": [
       "   Do you feel bored or uninterested in activities?  Do you feel sad or hurt?  \\\n",
       "0                                                 0                         0   \n",
       "1                                                 1                         2   \n",
       "2                                                 3                         0   \n",
       "3                                                 3                         3   \n",
       "4                                                 2                         3   \n",
       "\n",
       "   Do you stay up late at night?  Do you feel tired all the time?  \\\n",
       "0                              2                                2   \n",
       "1                              3                                2   \n",
       "2                              3                                1   \n",
       "3                              1                                0   \n",
       "4                              0                                3   \n",
       "\n",
       "   Do you feel like there is nobody to help you?  \\\n",
       "0                                              3   \n",
       "1                                              3   \n",
       "2                                              3   \n",
       "3                                              3   \n",
       "4                                              2   \n",
       "\n",
       "   Do you feel your parents are upset with you?  \\\n",
       "0                                             2   \n",
       "1                                             3   \n",
       "2                                             1   \n",
       "3                                             3   \n",
       "4                                             1   \n",
       "\n",
       "   Do you leave food because you are not hungry?  \\\n",
       "0                                              3   \n",
       "1                                              3   \n",
       "2                                              2   \n",
       "3                                              0   \n",
       "4                                              3   \n",
       "\n",
       "   Do you feel distracted while studying?  \\\n",
       "0                                       1   \n",
       "1                                       3   \n",
       "2                                       2   \n",
       "3                                       0   \n",
       "4                                       1   \n",
       "\n",
       "   Do you feel like disappearing from the world?  \\\n",
       "0                                              0   \n",
       "1                                              2   \n",
       "2                                              1   \n",
       "3                                              1   \n",
       "4                                              2   \n",
       "\n",
       "                      Depression Risk  \n",
       "0            Moderate Depression Risk  \n",
       "1              Severe Depression Risk  \n",
       "2  Moderate to Severe Depression Risk  \n",
       "3            Moderate Depression Risk  \n",
       "4  Moderate to Severe Depression Risk  "
      ]
     },
     "execution_count": 4,
     "metadata": {},
     "output_type": "execute_result"
    }
   ],
   "source": [
    "data.head()"
   ]
  },
  {
   "cell_type": "code",
   "execution_count": 5,
   "id": "f045b747",
   "metadata": {},
   "outputs": [],
   "source": [
    "# Extracting categorical columns\n",
    "categorical_cols = [\n",
    "    'Do you feel bored or uninterested in activities?',\n",
    "    'Do you feel sad or hurt?',\n",
    "    'Do you stay up late at night?',\n",
    "    'Do you feel tired all the time?',\n",
    "    'Do you feel like there is nobody to help you?',\n",
    "    'Do you feel your parents are upset with you?',\n",
    "    'Do you leave food because you are not hungry?',\n",
    "    'Do you feel distracted while studying?',\n",
    "    'Do you feel like disappearing from the world?'\n",
    "]"
   ]
  },
  {
   "cell_type": "code",
   "execution_count": 6,
   "id": "0f23d51c",
   "metadata": {},
   "outputs": [
    {
     "name": "stderr",
     "output_type": "stream",
     "text": [
      "C:\\Users\\Dell\\anaconda3\\Lib\\site-packages\\sklearn\\preprocessing\\_encoders.py:972: FutureWarning: `sparse` was renamed to `sparse_output` in version 1.2 and will be removed in 1.4. `sparse_output` is ignored unless you leave `sparse` to its default value.\n",
      "  warnings.warn(\n"
     ]
    }
   ],
   "source": [
    "# One-hot encode categorical variables\n",
    "encoder = OneHotEncoder(sparse=False, drop='first')\n",
    "encoded_data = encoder.fit_transform(data[categorical_cols])"
   ]
  },
  {
   "cell_type": "code",
   "execution_count": 7,
   "id": "abc99b17",
   "metadata": {},
   "outputs": [],
   "source": [
    "# Create a DataFrame with encoded features\n",
    "encoded_df = pd.DataFrame(encoded_data, columns=encoder.get_feature_names_out(categorical_cols))\n",
    "\n",
    "# Concatenate encoded features with original data\n",
    "data_encoded = pd.concat([data.drop(columns=categorical_cols), encoded_df], axis=1)"
   ]
  },
  {
   "cell_type": "code",
   "execution_count": 8,
   "id": "b3307739",
   "metadata": {},
   "outputs": [],
   "source": [
    "# Separate features (X) and target variable (y)\n",
    "X = data_encoded.drop(columns=['Depression Risk'])\n",
    "y = data_encoded['Depression Risk']"
   ]
  },
  {
   "cell_type": "code",
   "execution_count": 9,
   "id": "da7df00a",
   "metadata": {},
   "outputs": [],
   "source": [
    "# Integer encode the target variable\n",
    "label_encoder = LabelEncoder()\n",
    "y = label_encoder.fit_transform(y)"
   ]
  },
  {
   "cell_type": "code",
   "execution_count": 10,
   "id": "354411b0",
   "metadata": {},
   "outputs": [],
   "source": [
    "# Split the data into training and testing sets\n",
    "X_train, X_test, y_train, y_test = train_test_split(X, y, test_size=0.2, random_state=42)"
   ]
  },
  {
   "cell_type": "code",
   "execution_count": 11,
   "id": "b9175125",
   "metadata": {},
   "outputs": [
    {
     "name": "stdout",
     "output_type": "stream",
     "text": [
      "WARNING:tensorflow:From C:\\Users\\Dell\\anaconda3\\Lib\\site-packages\\keras\\src\\backend.py:873: The name tf.get_default_graph is deprecated. Please use tf.compat.v1.get_default_graph instead.\n",
      "\n"
     ]
    }
   ],
   "source": [
    "# Define the neural network model\n",
    "model = tf.keras.models.Sequential([\n",
    "    tf.keras.layers.Dense(128, activation='relu', input_shape=(X_train.shape[1],)),\n",
    "    tf.keras.layers.Dense(64, activation='relu'),\n",
    "    tf.keras.layers.Dense(32, activation='relu'),\n",
    "    tf.keras.layers.Dense(len(label_encoder.classes_), activation='softmax') \n",
    "])"
   ]
  },
  {
   "cell_type": "code",
   "execution_count": 12,
   "id": "db6e7c6e",
   "metadata": {},
   "outputs": [
    {
     "name": "stdout",
     "output_type": "stream",
     "text": [
      "WARNING:tensorflow:From C:\\Users\\Dell\\anaconda3\\Lib\\site-packages\\keras\\src\\optimizers\\__init__.py:309: The name tf.train.Optimizer is deprecated. Please use tf.compat.v1.train.Optimizer instead.\n",
      "\n"
     ]
    }
   ],
   "source": [
    "# Compile the model\n",
    "model.compile(optimizer='adam', loss='sparse_categorical_crossentropy', metrics=['accuracy'])"
   ]
  },
  {
   "cell_type": "code",
   "execution_count": 13,
   "id": "be154121",
   "metadata": {},
   "outputs": [
    {
     "name": "stdout",
     "output_type": "stream",
     "text": [
      "WARNING:tensorflow:From C:\\Users\\Dell\\anaconda3\\Lib\\site-packages\\keras\\src\\utils\\tf_utils.py:492: The name tf.ragged.RaggedTensorValue is deprecated. Please use tf.compat.v1.ragged.RaggedTensorValue instead.\n",
      "\n",
      "WARNING:tensorflow:From C:\\Users\\Dell\\anaconda3\\Lib\\site-packages\\keras\\src\\engine\\base_layer_utils.py:384: The name tf.executing_eagerly_outside_functions is deprecated. Please use tf.compat.v1.executing_eagerly_outside_functions instead.\n",
      "\n"
     ]
    }
   ],
   "source": [
    "# Train the model\n",
    "history = model.fit(X_train, y_train, epochs=100, batch_size=32, validation_split=0.1, verbose=0)"
   ]
  },
  {
   "cell_type": "code",
   "execution_count": 14,
   "id": "9411d7f5",
   "metadata": {},
   "outputs": [
    {
     "data": {
      "image/png": "[encoded data removed]",
      "text/plain": [
       "<Figure size 1000x500 with 1 Axes>"
      ]
     },
     "metadata": {},
     "output_type": "display_data"
    }
   ],
   "source": [
    "# Plot the learning curve\n",
    "plt.figure(figsize=(10, 5))\n",
    "plt.plot(history.history['accuracy'], label='Training Accuracy')\n",
    "plt.plot(history.history['val_accuracy'], label='Validation Accuracy')\n",
    "plt.title('Training and Validation Accuracy')\n",
    "plt.xlabel('Epoch')\n",
    "plt.ylabel('Accuracy')\n",
    "plt.legend()\n",
    "plt.show()"
   ]
  },
  {
   "cell_type": "code",
   "execution_count": 15,
   "id": "4c12faf5",
   "metadata": {},
   "outputs": [
    {
     "name": "stdout",
     "output_type": "stream",
     "text": [
      "76/76 [==============================] - 0s 2ms/step - loss: 0.0095 - accuracy: 0.9963\n",
      "Test Accuracy: 0.9962546825408936\n"
     ]
    }
   ],
   "source": [
    "# Evaluate the model\n",
    "test_loss, test_acc = model.evaluate(X_test, y_test)\n",
    "print(\"Test Accuracy:\", test_acc)"
   ]
  },
  {
   "cell_type": "code",
   "execution_count": 16,
   "id": "f112c81b",
   "metadata": {},
   "outputs": [
    {
     "name": "stdout",
     "output_type": "stream",
     "text": [
      "76/76 [==============================] - 0s 2ms/step\n"
     ]
    }
   ],
   "source": [
    "# Predict on the test set\n",
    "y_pred_prob = model.predict(X_test)\n",
    "y_pred = np.argmax(y_pred_prob, axis=1)"
   ]
  },
  {
   "cell_type": "code",
   "execution_count": 17,
   "id": "79e7b767",
   "metadata": {},
   "outputs": [
    {
     "name": "stdout",
     "output_type": "stream",
     "text": [
      "Confusion Matrix:\n",
      "[[ 287    0    0    0    0]\n",
      " [   0    9    0    0    0]\n",
      " [   0    0 1160    1    0]\n",
      " [   0    0    1  853    7]\n",
      " [   0    0    0    0   85]]\n",
      "\n",
      "Classification Report:\n",
      "              precision    recall  f1-score   support\n",
      "\n",
      "           0       1.00      1.00      1.00       287\n",
      "           1       1.00      1.00      1.00         9\n",
      "           2       1.00      1.00      1.00      1161\n",
      "           3       1.00      0.99      0.99       861\n",
      "           4       0.92      1.00      0.96        85\n",
      "\n",
      "    accuracy                           1.00      2403\n",
      "   macro avg       0.98      1.00      0.99      2403\n",
      "weighted avg       1.00      1.00      1.00      2403\n",
      "\n"
     ]
    }
   ],
   "source": [
    "# Confusion Matrix\n",
    "print(\"Confusion Matrix:\")\n",
    "print(confusion_matrix(y_test, y_pred))\n",
    "\n",
    "# Classification Report\n",
    "print(\"\\nClassification Report:\")\n",
    "print(classification_report(y_test, y_pred, zero_division=1))"
   ]
  },
  {
   "cell_type": "code",
   "execution_count": 18,
   "id": "83855ac1",
   "metadata": {},
   "outputs": [
    {
     "name": "stderr",
     "output_type": "stream",
     "text": [
      "C:\\Users\\Dell\\anaconda3\\Lib\\site-packages\\keras\\src\\engine\\training.py:3103: UserWarning: You are saving your model as an HDF5 file via `model.save()`. This file format is considered legacy. We recommend using instead the native Keras format, e.g. `model.save('my_model.keras')`.\n",
      "  saving_api.save_model(\n"
     ]
    },
    {
     "data": {
      "text/plain": [
       "['one_hot_encoderffnn.pkl']"
      ]
     },
     "execution_count": 18,
     "metadata": {},
     "output_type": "execute_result"
    }
   ],
   "source": [
    "# Save the trained model\n",
    "model.save('ffnn_model.h5')\n",
    "\n",
    "# Save the OneHotEncoder\n",
    "joblib.dump(encoder, 'one_hot_encoderffnn.pkl')"
   ]
  },
  {
   "cell_type": "markdown",
   "id": "2737ec21",
   "metadata": {},
   "source": [
    "Testing"
   ]
  },
  {
   "cell_type": "code",
   "execution_count": 23,
   "id": "9c59218c",
   "metadata": {},
   "outputs": [
    {
     "name": "stdout",
     "output_type": "stream",
     "text": [
      "1/1 [==============================] - 0s 94ms/step\n",
      "Predicted Labels: ['Moderate Depression Risk']\n"
     ]
    }
   ],
   "source": [
    "import pandas as pd\n",
    "import joblib\n",
    "import numpy as np\n",
    "import tensorflow as tf\n",
    "\n",
    "# Load the saved neural network model\n",
    "loaded_model = tf.keras.models.load_model('ffnn_model.h5')\n",
    "\n",
    "# Load the saved OneHotEncoder\n",
    "loaded_encoder = joblib.load('one_hot_encoderffnn.pkl')\n",
    "\n",
    "# Prepare the input data\n",
    "input_data = pd.DataFrame({\n",
    "    'Do you feel bored or uninterested in activities?': [3],\n",
    "    'Do you feel sad or hurt?': [1],\n",
    "    'Do you stay up late at night?': [0],\n",
    "    'Do you feel tired all the time?': [1],\n",
    "    'Do you feel like there is nobody to help you?': [0],\n",
    "    'Do you feel your parents are upset with you?': [0],\n",
    "    'Do you leave food because you are not hungry?': [2],\n",
    "    'Do you feel distracted while studying?': [1],\n",
    "    'Do you feel like disappearing from the world?': [3]\n",
    "})\n",
    "\n",
    "# One-hot encode the input data\n",
    "encoded_input = loaded_encoder.transform(input_data)\n",
    "\n",
    "# Make predictions\n",
    "predictions_prob = loaded_model.predict(encoded_input)\n",
    "predictions = np.argmax(predictions_prob, axis=1)\n",
    "\n",
    "# Inverse transform the predicted labels to get the actual class labels\n",
    "predicted_labels = label_encoder.inverse_transform(predictions)\n",
    "\n",
    "print(\"Predicted Labels:\", predicted_labels)"
   ]
  },
  {
   "cell_type": "code",
   "execution_count": null,
   "id": "1bc9d64b",
   "metadata": {},
   "outputs": [],
   "source": []
  }
 ],
 "metadata": {
  "kernelspec": {
   "display_name": "Python 3 (ipykernel)",
   "language": "python",
   "name": "python3"
  },
  "language_info": {
   "codemirror_mode": {
    "name": "ipython",
    "version": 3
   },
   "file_extension": ".py",
   "mimetype": "text/x-python",
   "name": "python",
   "nbconvert_exporter": "python",
   "pygments_lexer": "ipython3",
   "version": "3.11.5"
  }
 },
 "nbformat": 4,
 "nbformat_minor": 5
}
