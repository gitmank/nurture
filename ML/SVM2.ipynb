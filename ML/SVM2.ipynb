{
 "cells": [
  {
   "cell_type": "code",
   "execution_count": 1,
   "id": "55c585db",
   "metadata": {},
   "outputs": [],
   "source": [
    "import pandas as pd\n",
    "from sklearn.model_selection import train_test_split, cross_val_score\n",
    "from sklearn.svm import SVC\n",
    "from sklearn.metrics import classification_report, confusion_matrix\n",
    "from sklearn.preprocessing import OneHotEncoder\n",
    "from sklearn.feature_selection import SelectKBest\n",
    "from sklearn.calibration import CalibratedClassifierCV\n",
    "import joblib\n",
    "import matplotlib.pyplot as plt\n",
    "import seaborn as sns\n",
    "import numpy as np"
   ]
  },
  {
   "cell_type": "code",
   "execution_count": 2,
   "id": "2ca4668e",
   "metadata": {},
   "outputs": [
    {
     "data": {
      "text/html": [
       "<div>\n",
       "<style scoped>\n",
       "    .dataframe tbody tr th:only-of-type {\n",
       "        vertical-align: middle;\n",
       "    }\n",
       "\n",
       "    .dataframe tbody tr th {\n",
       "        vertical-align: top;\n",
       "    }\n",
       "\n",
       "    .dataframe thead th {\n",
       "        text-align: right;\n",
       "    }\n",
       "</style>\n",
       "<table border=\"1\" class=\"dataframe\">\n",
       "  <thead>\n",
       "    <tr style=\"text-align: right;\">\n",
       "      <th></th>\n",
       "      <th>Do you feel bored or uninterested in activities?</th>\n",
       "      <th>Do you feel sad or hurt?</th>\n",
       "      <th>Do you stay up late at night?</th>\n",
       "      <th>Do you feel tired all the time?</th>\n",
       "      <th>Do you feel like there is nobody to help you?</th>\n",
       "      <th>Do you feel your parents are upset with you?</th>\n",
       "      <th>Do you leave food because you are not hungry?</th>\n",
       "      <th>Do you feel distracted while studying?</th>\n",
       "      <th>Do you feel like disappearing from the world?</th>\n",
       "      <th>Depression Risk</th>\n",
       "    </tr>\n",
       "  </thead>\n",
       "  <tbody>\n",
       "    <tr>\n",
       "      <th>0</th>\n",
       "      <td>1</td>\n",
       "      <td>2</td>\n",
       "      <td>0</td>\n",
       "      <td>3</td>\n",
       "      <td>1</td>\n",
       "      <td>2</td>\n",
       "      <td>0</td>\n",
       "      <td>3</td>\n",
       "      <td>2</td>\n",
       "      <td>Moderate Risk</td>\n",
       "    </tr>\n",
       "    <tr>\n",
       "      <th>1</th>\n",
       "      <td>1</td>\n",
       "      <td>2</td>\n",
       "      <td>1</td>\n",
       "      <td>2</td>\n",
       "      <td>1</td>\n",
       "      <td>2</td>\n",
       "      <td>3</td>\n",
       "      <td>1</td>\n",
       "      <td>0</td>\n",
       "      <td>Moderate Risk</td>\n",
       "    </tr>\n",
       "    <tr>\n",
       "      <th>2</th>\n",
       "      <td>2</td>\n",
       "      <td>3</td>\n",
       "      <td>3</td>\n",
       "      <td>1</td>\n",
       "      <td>2</td>\n",
       "      <td>2</td>\n",
       "      <td>1</td>\n",
       "      <td>2</td>\n",
       "      <td>3</td>\n",
       "      <td>Moderate to Severe Risk</td>\n",
       "    </tr>\n",
       "    <tr>\n",
       "      <th>3</th>\n",
       "      <td>0</td>\n",
       "      <td>1</td>\n",
       "      <td>2</td>\n",
       "      <td>3</td>\n",
       "      <td>0</td>\n",
       "      <td>1</td>\n",
       "      <td>2</td>\n",
       "      <td>3</td>\n",
       "      <td>1</td>\n",
       "      <td>Moderate Risk</td>\n",
       "    </tr>\n",
       "    <tr>\n",
       "      <th>4</th>\n",
       "      <td>1</td>\n",
       "      <td>2</td>\n",
       "      <td>3</td>\n",
       "      <td>0</td>\n",
       "      <td>1</td>\n",
       "      <td>2</td>\n",
       "      <td>0</td>\n",
       "      <td>2</td>\n",
       "      <td>3</td>\n",
       "      <td>Moderate Risk</td>\n",
       "    </tr>\n",
       "  </tbody>\n",
       "</table>\n",
       "</div>"
      ],
      "text/plain": [
       "   Do you feel bored or uninterested in activities?  Do you feel sad or hurt?  \\\n",
       "0                                                 1                         2   \n",
       "1                                                 1                         2   \n",
       "2                                                 2                         3   \n",
       "3                                                 0                         1   \n",
       "4                                                 1                         2   \n",
       "\n",
       "   Do you stay up late at night?  Do you feel tired all the time?  \\\n",
       "0                              0                                3   \n",
       "1                              1                                2   \n",
       "2                              3                                1   \n",
       "3                              2                                3   \n",
       "4                              3                                0   \n",
       "\n",
       "   Do you feel like there is nobody to help you?  \\\n",
       "0                                              1   \n",
       "1                                              1   \n",
       "2                                              2   \n",
       "3                                              0   \n",
       "4                                              1   \n",
       "\n",
       "   Do you feel your parents are upset with you?  \\\n",
       "0                                             2   \n",
       "1                                             2   \n",
       "2                                             2   \n",
       "3                                             1   \n",
       "4                                             2   \n",
       "\n",
       "   Do you leave food because you are not hungry?  \\\n",
       "0                                              0   \n",
       "1                                              3   \n",
       "2                                              1   \n",
       "3                                              2   \n",
       "4                                              0   \n",
       "\n",
       "   Do you feel distracted while studying?  \\\n",
       "0                                       3   \n",
       "1                                       1   \n",
       "2                                       2   \n",
       "3                                       3   \n",
       "4                                       2   \n",
       "\n",
       "   Do you feel like disappearing from the world?          Depression Risk  \n",
       "0                                              2            Moderate Risk  \n",
       "1                                              0            Moderate Risk  \n",
       "2                                              3  Moderate to Severe Risk  \n",
       "3                                              1            Moderate Risk  \n",
       "4                                              3            Moderate Risk  "
      ]
     },
     "execution_count": 2,
     "metadata": {},
     "output_type": "execute_result"
    }
   ],
   "source": [
    "# Load the dataset\n",
    "data = pd.read_csv(r\"C:\\Users\\Dell\\Downloads\\depressionurture.csv\")\n",
    "\n",
    "data.head()"
   ]
  },
  {
   "cell_type": "code",
   "execution_count": 3,
   "id": "116042cb",
   "metadata": {},
   "outputs": [],
   "source": [
    "# Extracting categorical columns\n",
    "categorical_cols = ['Do you feel bored or uninterested in activities?',\n",
    "                    'Do you feel sad or hurt?',\n",
    "                    'Do you stay up late at night?',\n",
    "                    'Do you feel tired all the time?',\n",
    "                    'Do you feel like there is nobody to help you?',\n",
    "                    'Do you feel your parents are upset with you?',\n",
    "                    'Do you leave food because you are not hungry?',\n",
    "                    'Do you feel distracted while studying?',\n",
    "                    'Do you feel like disappearing from the world?']"
   ]
  },
  {
   "cell_type": "code",
   "execution_count": 4,
   "id": "a11a49e2",
   "metadata": {},
   "outputs": [
    {
     "name": "stderr",
     "output_type": "stream",
     "text": [
      "C:\\Users\\Dell\\anaconda3\\Lib\\site-packages\\sklearn\\preprocessing\\_encoders.py:972: FutureWarning: `sparse` was renamed to `sparse_output` in version 1.2 and will be removed in 1.4. `sparse_output` is ignored unless you leave `sparse` to its default value.\n",
      "  warnings.warn(\n"
     ]
    }
   ],
   "source": [
    "# One-hot encode categorical variables\n",
    "encoder = OneHotEncoder(sparse=False, drop='first')\n",
    "encoded_data = encoder.fit_transform(data[categorical_cols])"
   ]
  },
  {
   "cell_type": "code",
   "execution_count": 5,
   "id": "23dfb077",
   "metadata": {},
   "outputs": [],
   "source": [
    "# Create a DataFrame with encoded features\n",
    "encoded_df = pd.DataFrame(encoded_data, columns=encoder.get_feature_names_out(categorical_cols))\n",
    "\n",
    "# Combine encoded features with numerical features\n",
    "data_encoded = pd.concat([encoded_df, data.drop(columns=categorical_cols)], axis=1)"
   ]
  },
  {
   "cell_type": "code",
   "execution_count": 6,
   "id": "cdf25526",
   "metadata": {},
   "outputs": [],
   "source": [
    "# Check for NaN values in the entire DataFrame\n",
    "if data_encoded.isnull().values.any():\n",
    "    # Convert all columns to numeric\n",
    "    data_encoded = data_encoded.apply(pd.to_numeric, errors='coerce')\n",
    "    \n",
    "    # Fill NaN values with 0 in the entire DataFrame\n",
    "    data_encoded.fillna(0, inplace=True)"
   ]
  },
  {
   "cell_type": "code",
   "execution_count": 7,
   "id": "d76c87e8",
   "metadata": {},
   "outputs": [],
   "source": [
    "# Separate features (X) and target variable (y)\n",
    "X = data_encoded.drop(columns=['Depression Risk'])\n",
    "y = data_encoded['Depression Risk']"
   ]
  },
  {
   "cell_type": "code",
   "execution_count": 8,
   "id": "ff1456a8",
   "metadata": {},
   "outputs": [],
   "source": [
    "# Split the data into training and testing sets\n",
    "X_train, X_test, y_train, y_test = train_test_split(X, y, test_size=0.2, random_state=42)"
   ]
  },
  {
   "cell_type": "code",
   "execution_count": 9,
   "id": "87cc270d",
   "metadata": {},
   "outputs": [],
   "source": [
    "# Initialize SVM classifier\n",
    "svm_classifier = SVC(kernel='rbf', random_state=42)"
   ]
  },
  {
   "cell_type": "code",
   "execution_count": 10,
   "id": "7251cdf8",
   "metadata": {},
   "outputs": [
    {
     "data": {
      "text/html": [
       "<style>#sk-container-id-1 {color: black;}#sk-container-id-1 pre{padding: 0;}#sk-container-id-1 div.sk-toggleable {background-color: white;}#sk-container-id-1 label.sk-toggleable__label {cursor: pointer;display: block;width: 100%;margin-bottom: 0;padding: 0.3em;box-sizing: border-box;text-align: center;}#sk-container-id-1 label.sk-toggleable__label-arrow:before {content: \"▸\";float: left;margin-right: 0.25em;color: #696969;}#sk-container-id-1 label.sk-toggleable__label-arrow:hover:before {color: black;}#sk-container-id-1 div.sk-estimator:hover label.sk-toggleable__label-arrow:before {color: black;}#sk-container-id-1 div.sk-toggleable__content {max-height: 0;max-width: 0;overflow: hidden;text-align: left;background-color: #f0f8ff;}#sk-container-id-1 div.sk-toggleable__content pre {margin: 0.2em;color: black;border-radius: 0.25em;background-color: #f0f8ff;}#sk-container-id-1 input.sk-toggleable__control:checked~div.sk-toggleable__content {max-height: 200px;max-width: 100%;overflow: auto;}#sk-container-id-1 input.sk-toggleable__control:checked~label.sk-toggleable__label-arrow:before {content: \"▾\";}#sk-container-id-1 div.sk-estimator input.sk-toggleable__control:checked~label.sk-toggleable__label {background-color: #d4ebff;}#sk-container-id-1 div.sk-label input.sk-toggleable__control:checked~label.sk-toggleable__label {background-color: #d4ebff;}#sk-container-id-1 input.sk-hidden--visually {border: 0;clip: rect(1px 1px 1px 1px);clip: rect(1px, 1px, 1px, 1px);height: 1px;margin: -1px;overflow: hidden;padding: 0;position: absolute;width: 1px;}#sk-container-id-1 div.sk-estimator {font-family: monospace;background-color: #f0f8ff;border: 1px dotted black;border-radius: 0.25em;box-sizing: border-box;margin-bottom: 0.5em;}#sk-container-id-1 div.sk-estimator:hover {background-color: #d4ebff;}#sk-container-id-1 div.sk-parallel-item::after {content: \"\";width: 100%;border-bottom: 1px solid gray;flex-grow: 1;}#sk-container-id-1 div.sk-label:hover label.sk-toggleable__label {background-color: #d4ebff;}#sk-container-id-1 div.sk-serial::before {content: \"\";position: absolute;border-left: 1px solid gray;box-sizing: border-box;top: 0;bottom: 0;left: 50%;z-index: 0;}#sk-container-id-1 div.sk-serial {display: flex;flex-direction: column;align-items: center;background-color: white;padding-right: 0.2em;padding-left: 0.2em;position: relative;}#sk-container-id-1 div.sk-item {position: relative;z-index: 1;}#sk-container-id-1 div.sk-parallel {display: flex;align-items: stretch;justify-content: center;background-color: white;position: relative;}#sk-container-id-1 div.sk-item::before, #sk-container-id-1 div.sk-parallel-item::before {content: \"\";position: absolute;border-left: 1px solid gray;box-sizing: border-box;top: 0;bottom: 0;left: 50%;z-index: -1;}#sk-container-id-1 div.sk-parallel-item {display: flex;flex-direction: column;z-index: 1;position: relative;background-color: white;}#sk-container-id-1 div.sk-parallel-item:first-child::after {align-self: flex-end;width: 50%;}#sk-container-id-1 div.sk-parallel-item:last-child::after {align-self: flex-start;width: 50%;}#sk-container-id-1 div.sk-parallel-item:only-child::after {width: 0;}#sk-container-id-1 div.sk-dashed-wrapped {border: 1px dashed gray;margin: 0 0.4em 0.5em 0.4em;box-sizing: border-box;padding-bottom: 0.4em;background-color: white;}#sk-container-id-1 div.sk-label label {font-family: monospace;font-weight: bold;display: inline-block;line-height: 1.2em;}#sk-container-id-1 div.sk-label-container {text-align: center;}#sk-container-id-1 div.sk-container {/* jupyter's `normalize.less` sets `[hidden] { display: none; }` but bootstrap.min.css set `[hidden] { display: none !important; }` so we also need the `!important` here to be able to override the default hidden behavior on the sphinx rendered scikit-learn.org. See: https://github.com/scikit-learn/scikit-learn/issues/21755 */display: inline-block !important;position: relative;}#sk-container-id-1 div.sk-text-repr-fallback {display: none;}</style><div id=\"sk-container-id-1\" class=\"sk-top-container\"><div class=\"sk-text-repr-fallback\"><pre>SVC(random_state=42)</pre><b>In a Jupyter environment, please rerun this cell to show the HTML representation or trust the notebook. <br />On GitHub, the HTML representation is unable to render, please try loading this page with nbviewer.org.</b></div><div class=\"sk-container\" hidden><div class=\"sk-item\"><div class=\"sk-estimator sk-toggleable\"><input class=\"sk-toggleable__control sk-hidden--visually\" id=\"sk-estimator-id-1\" type=\"checkbox\" checked><label for=\"sk-estimator-id-1\" class=\"sk-toggleable__label sk-toggleable__label-arrow\">SVC</label><div class=\"sk-toggleable__content\"><pre>SVC(random_state=42)</pre></div></div></div></div></div>"
      ],
      "text/plain": [
       "SVC(random_state=42)"
      ]
     },
     "execution_count": 10,
     "metadata": {},
     "output_type": "execute_result"
    }
   ],
   "source": [
    "# Train the SVM model\n",
    "svm_classifier.fit(X_train, y_train)"
   ]
  },
  {
   "cell_type": "code",
   "execution_count": 11,
   "id": "b56309b4",
   "metadata": {},
   "outputs": [],
   "source": [
    "# Cross-validation scores\n",
    "cv_scores = cross_val_score(svm_classifier, X, y, cv=5)"
   ]
  },
  {
   "cell_type": "code",
   "execution_count": 12,
   "id": "b7d028f1",
   "metadata": {},
   "outputs": [],
   "source": [
    "# Feature selection using SelectKBest\n",
    "selector = SelectKBest(k=5)\n",
    "X_selected = selector.fit_transform(X, y)"
   ]
  },
  {
   "cell_type": "code",
   "execution_count": 13,
   "id": "24720add",
   "metadata": {},
   "outputs": [],
   "source": [
    "# Calibrate classifier for probability estimates\n",
    "calibrated_svc = CalibratedClassifierCV(svm_classifier, cv='prefit')\n",
    "\n",
    "# Make predictions on the test set using calibrated classifier\n",
    "calibrated_svc.fit(X_train, y_train)\n",
    "y_pred = calibrated_svc.predict(X_test)"
   ]
  },
  {
   "cell_type": "code",
   "execution_count": 14,
   "id": "c4595472",
   "metadata": {},
   "outputs": [
    {
     "name": "stdout",
     "output_type": "stream",
     "text": [
      "\n",
      "SVM Confusion Matrix:\n",
      "[[137  13  15   0   0]\n",
      " [  0  53   0   0   0]\n",
      " [  2   0 514  10   0]\n",
      " [  0   0  20 328   1]\n",
      " [  0   0   0  14  69]]\n",
      "\n",
      "SVM Classification Report:\n",
      "                         precision    recall  f1-score   support\n",
      "\n",
      "              Mild Risk       0.99      0.83      0.90       165\n",
      "           Minimal Risk       0.80      1.00      0.89        53\n",
      "          Moderate Risk       0.94      0.98      0.96       526\n",
      "Moderate to Severe Risk       0.93      0.94      0.94       349\n",
      "            Severe Risk       0.99      0.83      0.90        83\n",
      "\n",
      "               accuracy                           0.94      1176\n",
      "              macro avg       0.93      0.92      0.92      1176\n",
      "           weighted avg       0.94      0.94      0.94      1176\n",
      "\n"
     ]
    }
   ],
   "source": [
    "# Evaluate the model\n",
    "print(\"\\nSVM Confusion Matrix:\")\n",
    "print(confusion_matrix(y_test, y_pred))\n",
    "print(\"\\nSVM Classification Report:\")\n",
    "print(classification_report(y_test, y_pred, zero_division=1))"
   ]
  },
  {
   "cell_type": "code",
   "execution_count": 15,
   "id": "032d861a",
   "metadata": {},
   "outputs": [
    {
     "data": {
      "text/plain": [
       "['svm_model.pkl']"
      ]
     },
     "execution_count": 15,
     "metadata": {},
     "output_type": "execute_result"
    }
   ],
   "source": [
    "# Save the trained SVM classifier model\n",
    "joblib.dump(calibrated_svc, 'svm_model.pkl')"
   ]
  },
  {
   "cell_type": "code",
   "execution_count": 16,
   "id": "3cc53dec",
   "metadata": {},
   "outputs": [
    {
     "data": {
      "image/png": "[encoded data removed]",
      "text/plain": [
       "<Figure size 640x480 with 1 Axes>"
      ]
     },
     "metadata": {},
     "output_type": "display_data"
    },
    {
     "name": "stdout",
     "output_type": "stream",
     "text": [
      "\n",
      "Cross-validation Scores: [0.91241497 0.90136054 0.92255319 0.93531915 0.93702128]\n"
     ]
    }
   ],
   "source": [
    "# Feature Importance\n",
    "feature_importance = pd.DataFrame({'Feature': X.columns, 'Score': selector.scores_})\n",
    "feature_importance = feature_importance.sort_values(by='Score', ascending=False).head(10)\n",
    "sns.barplot(x='Score', y='Feature', data=feature_importance)\n",
    "plt.title('Feature Importance')\n",
    "plt.show()\n",
    "\n",
    "# Cross-validation scores\n",
    "print(\"\\nCross-validation Scores:\", cv_scores)"
   ]
  },
  {
   "cell_type": "markdown",
   "id": "53f94e6a",
   "metadata": {},
   "source": [
    "Testing"
   ]
  },
  {
   "cell_type": "code",
   "execution_count": 17,
   "id": "54c8e8e8",
   "metadata": {},
   "outputs": [],
   "source": [
    "import pandas as pd\n",
    "import joblib\n",
    "\n",
    "# Load the saved SVM model\n",
    "loaded_svm_model = joblib.load('svm_model.pkl')\n",
    "\n",
    "# Load the saved OneHotEncoder\n",
    "loaded_encoder = joblib.load('one_hot_encoder.pkl')"
   ]
  },
  {
   "cell_type": "code",
   "execution_count": 18,
   "id": "7cad0257",
   "metadata": {},
   "outputs": [
    {
     "name": "stdout",
     "output_type": "stream",
     "text": [
      "Predictions: ['Mild Risk']\n"
     ]
    },
    {
     "name": "stderr",
     "output_type": "stream",
     "text": [
      "C:\\Users\\Dell\\anaconda3\\Lib\\site-packages\\sklearn\\base.py:464: UserWarning: X does not have valid feature names, but SVC was fitted with feature names\n",
      "  warnings.warn(\n"
     ]
    }
   ],
   "source": [
    "# Prepare the input data\n",
    "input_data = pd.DataFrame({\n",
    "    'Do you feel bored or uninterested in activities?': [3],\n",
    "    'Do you feel sad or hurt?': [1],\n",
    "    'Do you stay up late at night?': [0],\n",
    "    'Do you feel tired all the time?': [1],\n",
    "    'Do you feel like there is nobody to help you?': [0],\n",
    "    'Do you feel your parents are upset with you?': [0],\n",
    "    'Do you leave food because you are not hungry?': [2],\n",
    "    'Do you feel distracted while studying?': [1],\n",
    "    'Do you feel like disappearing from the world?': [0]\n",
    "})\n",
    "\n",
    "# One-hot encode the input data\n",
    "encoded_input = loaded_encoder.transform(input_data)\n",
    "\n",
    "# Make predictions\n",
    "predictions = loaded_svm_model.predict(encoded_input)\n",
    "\n",
    "print(\"Predictions:\", predictions)"
   ]
  },
  {
   "cell_type": "code",
   "execution_count": null,
   "id": "0599ddd4",
   "metadata": {},
   "outputs": [],
   "source": []
  }
 ],
 "metadata": {
  "kernelspec": {
   "display_name": "Python 3 (ipykernel)",
   "language": "python",
   "name": "python3"
  },
  "language_info": {
   "codemirror_mode": {
    "name": "ipython",
    "version": 3
   },
   "file_extension": ".py",
   "mimetype": "text/x-python",
   "name": "python",
   "nbconvert_exporter": "python",
   "pygments_lexer": "ipython3",
   "version": "3.11.5"
  }
 },
 "nbformat": 4,
 "nbformat_minor": 5
}
